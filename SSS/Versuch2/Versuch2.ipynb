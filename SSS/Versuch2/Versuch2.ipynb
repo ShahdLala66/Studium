{
 "cells": [
  {
   "metadata": {},
   "cell_type": "markdown",
   "source": [
    "### Versuch 2: Kalibrierung von Digitalkameras\n",
    "##### In diesem Versuch werden die Eigenschaften von digitalen Kameras untersucht. Wir führen\n",
    "##### dazu eine Kalibrierung des Kamerasensors durch, wie sie etwa bei industriellen Inspektionsanlagen,\n",
    "##### bei der Fernerkundung durch Satelliten oder in der Astronomie gemacht wird.\n",
    "\n",
    "#### Aufnahme eines Dunkelbildes\n",
    "##### Um den pixelweisen Offset zu eliminieren, der durch thermisches Rauschen und Dunkelstrom verursacht wird.\n",
    "#### Aufnahme eines Weißbildes\n",
    "##### Um die unterschiedlichen Sensitivitäten der, einzelnen Pixel und die Vignettierung zu kompensieren."
   ],
   "id": "9c5f7a47292b73b6"
  },
  {
   "cell_type": "code",
   "id": "3d2d1b11-0308-4dfa-917b-de7bf145ef34",
   "metadata": {
    "ExecuteTime": {
     "end_time": "2024-11-18T11:33:40.331114Z",
     "start_time": "2024-11-18T11:33:40.326128Z"
    }
   },
   "source": [
    "import cv2\n",
    "import numpy as np\n",
    "from tabulate import tabulate"
   ],
   "outputs": [],
   "execution_count": 93
  },
  {
   "metadata": {
    "ExecuteTime": {
     "end_time": "2024-11-18T11:33:40.386708Z",
     "start_time": "2024-11-18T11:33:40.381753Z"
    }
   },
   "cell_type": "code",
   "source": [
    "path_dark = \"./Bilder/Dunkelbilder/2_\"\n",
    "path_white = \"./Bilder/Weissbilder/3_\"\n",
    "path_gwk = \"./Bilder/Grauwertkeil/1_\""
   ],
   "id": "934ca43360aa34fc",
   "outputs": [],
   "execution_count": 94
  },
  {
   "cell_type": "code",
   "id": "1e99d972-8d77-4f36-bca1-6711d2cd3a0d",
   "metadata": {
    "ExecuteTime": {
     "end_time": "2024-11-18T11:33:40.412263Z",
     "start_time": "2024-11-18T11:33:40.405058Z"
    }
   },
   "source": [
    "\"\"\"\n",
    "image_path: Der Pfad zum Bild, das verarbeitet werden soll\n",
    "step: Die Schrittweite, mit der das Bild gescannt wird\n",
    "threshold: Der Schwellenwert, der bestimmt, wann ein Schnitt gemacht wird (niedriger = sensibler)\n",
    "\"\"\"\n",
    "\n",
    "img_arr = []\n",
    "def slice_image(image_path, step=20, threshold=10):\n",
    "    image_array = []\n",
    "\n",
    "    # Einlesen Grauwertkeil als Grauwertbild\n",
    "    img_read = cv2.imread(image_path, cv2.IMREAD_GRAYSCALE)\n",
    "    image_array.append(img_read)\n",
    "\n",
    "    # Mittelwerte für die einzelnen Pixel\n",
    "    img = np.mean(image_array, axis=0, dtype=float)\n",
    "\n",
    "    subarrays = []\n",
    "    slicingindex = []\n",
    "\n",
    "    # Schleife für die einzelnen Bilder der Graustufen\n",
    "    for n in range(0, len(img[0]) - step, step):\n",
    "        # Wenn der Unterschied zwischen zwei Pixeln größer als der Schwellenwert ist, wird ein Schnitt gemacht\n",
    "        if abs(int(img[0, n + step]) - int(img[0, n])) > threshold:\n",
    "            slicingindex.append(n)\n",
    "            # Ausschnitt 1-4 hinzufügen\n",
    "            subarrays.append(img[:, n - 99:n])\n",
    "\n",
    "    # letzten Ausschnitt hinzufügen\n",
    "    subarrays.append(img[:, len(img[0]) - 99:len(img[0]) - 1])\n",
    "\n",
    "    return subarrays\n"
   ],
   "outputs": [],
   "execution_count": 95
  },
  {
   "cell_type": "code",
   "id": "e0c71539-6a72-4931-ab7d-9fb6053b5020",
   "metadata": {
    "ExecuteTime": {
     "end_time": "2024-11-18T11:33:40.531776Z",
     "start_time": "2024-11-18T11:33:40.456124Z"
    }
   },
   "source": [
    "# Funktion zum Entfernen von Rauschen\n",
    "def fix_noise(dark_img, white_img, input_img):\n",
    "    # Dunkelbild von Eingabebild abziehen\n",
    "    input_img = input_img - dark_img\n",
    "    # Weißbild normieren, sodass sein Mittelwert 1 ist\n",
    "    white_img = (white_img - dark_img) / np.mean(white_img)\n",
    "    # Eingabebild durch normiertes Weißbild teilen\n",
    "    input_img = input_img / white_img\n",
    "    # korrigiertes Bild speichern\n",
    "    cv2.imwrite(\"./Bilder/Grauwertkeil/Gwk_korrigiert.png\", input_img)\n",
    "    return input_img"
   ],
   "outputs": [],
   "execution_count": 96
  },
  {
   "cell_type": "code",
   "id": "dbafd4c8-bce9-4c96-a60a-bc9f3ea7a4ba",
   "metadata": {
    "ExecuteTime": {
     "end_time": "2024-11-18T11:33:40.701601Z",
     "start_time": "2024-11-18T11:33:40.617772Z"
    }
   },
   "source": [
    "sub_arrays = slice_image(\"./Bilder/Grauwertkeil/1_0.png\")\n",
    "\n",
    "res_mean = []\n",
    "res_std = []\n",
    "i = 0\n",
    "\n",
    "table = []\n",
    "for i, x in enumerate(sub_arrays):\n",
    "    if x.size > 0:\n",
    "        mean = np.round(np.mean(x), 2)\n",
    "        std = np.round(np.std(x), 2)\n",
    "    else:\n",
    "        mean = np.nan\n",
    "        std = np.nan\n",
    "\n",
    "    res_mean.append(mean)\n",
    "    res_std.append(std)\n",
    "\n",
    "    table.append([i, mean, std])"
   ],
   "outputs": [],
   "execution_count": 97
  },
  {
   "cell_type": "code",
   "id": "5025cab4-5ae2-4d9c-a76a-b0c05c7d3d68",
   "metadata": {
    "ExecuteTime": {
     "end_time": "2024-11-18T11:33:40.725363Z",
     "start_time": "2024-11-18T11:33:40.721162Z"
    }
   },
   "source": [
    "print(tabulate(table, headers=[\"Index\", \"Mean\", \"Std\"],\n",
    "               tablefmt=\"simple\", colalign=(\"left\", \"left\", \"left\")))"
   ],
   "outputs": [
    {
     "name": "stdout",
     "output_type": "stream",
     "text": [
      "Index    Mean    Std\n",
      "-------  ------  -----\n",
      "0        37.8    6.53\n",
      "1        81.14   7.37\n",
      "2        128.31  6.83\n",
      "3        176.57  6.57\n",
      "4        227.62  6.33\n"
     ]
    }
   ],
   "execution_count": 98
  },
  {
   "metadata": {
    "ExecuteTime": {
     "end_time": "2024-11-18T11:33:40.803883Z",
     "start_time": "2024-11-18T11:33:40.791125Z"
    }
   },
   "cell_type": "code",
   "source": [
    "# Routine zum Einlesen der Bilder als Grauwertbilder\n",
    "def get_image(image_path, number_images):\n",
    "    # Array für die Bilder\n",
    "    image_arr = []\n",
    "\n",
    "    for j in range(number_images):\n",
    "        img_read = cv2.imread(image_path + str(j) + \".png\", cv2.IMREAD_GRAYSCALE)\n",
    "        image_arr.append(img_read)\n",
    "\n",
    "    # pixelweisen Mittelwert berechnen (double)\n",
    "    return np.mean(image_arr, axis=0).astype(np.double)"
   ],
   "id": "2c46fc2a58288fd2",
   "outputs": [],
   "execution_count": 99
  },
  {
   "metadata": {
    "ExecuteTime": {
     "end_time": "2024-11-18T11:33:41.052735Z",
     "start_time": "2024-11-18T11:33:40.820260Z"
    }
   },
   "cell_type": "code",
   "source": [
    "# Einlesen der Bilder\n",
    "dark_image = get_image(path_dark, 10)\n",
    "white_image = get_image(path_white, 10)\n",
    "input_image = get_image(path_gwk, 1)\n",
    "\n",
    "# Rauschunterdrückung\n",
    "res = fix_noise(dark_image, white_image, input_image)\n",
    "cv2.imwrite(\"./Bilder/BilderNeu/Gwk_korrigiert.png\", res.astype(np.uint8))\n",
    "\n",
    "# Kontrast zu maximieren\n",
    "dunkel_angepasst = dark_image * 50\n",
    "weiss_angepasst = white_image * 50\n",
    "\n",
    "cv2.imwrite(\"./Bilder/BilderNeu/dunkel_angepasst.png\", dunkel_angepasst)\n",
    "cv2.imwrite(\"./Bilder/BilderNeu/weiss_angepasst.png\", weiss_angepasst)\n",
    "cv2.imwrite(\"./Bilder/BilderNeu/dunkel_original.png\", dark_image)\n",
    "cv2.imwrite(\"./Bilder/BilderNeu/weiss_original.png\", white_image)"
   ],
   "id": "76dd04676b9c9adc",
   "outputs": [
    {
     "data": {
      "text/plain": [
       "True"
      ]
     },
     "execution_count": 100,
     "metadata": {},
     "output_type": "execute_result"
    }
   ],
   "execution_count": 100
  },
  {
   "metadata": {
    "ExecuteTime": {
     "end_time": "2024-11-18T11:33:41.091362Z",
     "start_time": "2024-11-18T11:33:41.070556Z"
    }
   },
   "cell_type": "code",
   "source": [
    "# Überprüfen auf Hot pixel\n",
    "def get_hot_pixels(dark_img):\n",
    "    hot_pixels = dark_img > 0\n",
    "    return hot_pixels\n",
    "\n",
    "# Überprüfen auf Stuck pixel\n",
    "def get_stuck_pixels(dark_img, weiss_img):\n",
    "    stuck_pixels = dark_img == weiss_img\n",
    "    return stuck_pixels\n",
    "\n",
    "# Überprüfen auf Dead pixel\n",
    "def get_dead_pixels(weiss_img):\n",
    "    dead_pixels = weiss_img == 0\n",
    "    return dead_pixels\n",
    "\n",
    "# Markieren der Pixel im Bild\n",
    "def mark_pixels(image, pixels, color):\n",
    "    if len(image.shape) == 2: \n",
    "        marked_image = cv2.cvtColor(image.astype(np.uint8), cv2.COLOR_GRAY2BGR)\n",
    "    else:\n",
    "        marked_image = image\n",
    "    marked_image[pixels] = color\n",
    "    return marked_image\n",
    "\n",
    "# Einlesen der Bilder\n",
    "dark_image = cv2.imread(\"./Bilder/BilderNeu/dunkel_angepasst.png\", cv2.IMREAD_GRAYSCALE)\n",
    "white_image = cv2.imread(\"./Bilder/BilderNeu/weiss_angepasst.png\", cv2.IMREAD_GRAYSCALE)\n",
    "\n",
    "# Überprüfen und Markieren der Pixel\n",
    "hot_pixels = get_hot_pixels(dark_image)\n",
    "stuck_pixels = get_stuck_pixels(dark_image, white_image)\n",
    "dead_pixels = get_dead_pixels(white_image)\n",
    "\n",
    "marked_dark_image = mark_pixels(dark_image, hot_pixels, (0, 0, 255))  # Red for hot pixels\n",
    "marked_dark_image = mark_pixels(marked_dark_image, stuck_pixels, (0, 255, 0))  # Green for stuck pixels\n",
    "marked_white_image = mark_pixels(white_image, dead_pixels, (255, 0, 0))  # Blue for dead pixels\n",
    "\n",
    "# Speichern der markierten Bilder\n",
    "cv2.imwrite(\"./Bilder/BilderNeu/dark_image_marked.png\", marked_dark_image)\n",
    "cv2.imwrite(\"./Bilder/BilderNeu/white_image_marked.png\", marked_white_image)"
   ],
   "id": "6019e04931d23a1f",
   "outputs": [
    {
     "data": {
      "text/plain": [
       "True"
      ]
     },
     "execution_count": 101,
     "metadata": {},
     "output_type": "execute_result"
    }
   ],
   "execution_count": 101
  },
  {
   "metadata": {
    "ExecuteTime": {
     "end_time": "2024-11-18T11:33:41.217604Z",
     "start_time": "2024-11-18T11:33:41.202121Z"
    }
   },
   "cell_type": "code",
   "source": [
    "sub_arrays_fixed = slice_image(\"./Bilder/Grauwertkeil/Gwk_korrigiert.png\", 15, 35)\n",
    "\n",
    "res_mean_fixed = []\n",
    "res_std_fixed = []\n",
    "j = 0\n",
    "\n",
    "table_fixed = []\n",
    "for j, x in enumerate(sub_arrays_fixed):\n",
    "    \n",
    "    if x.size > 0:\n",
    "        mean = np.round(np.mean(x), 2)\n",
    "        std = np.round(np.std(x), 2)\n",
    "    else:\n",
    "        mean = np.nan\n",
    "        std = np.nan\n",
    "\n",
    "    res_mean_fixed.append(mean)\n",
    "    res_std_fixed.append(std)\n",
    "\n",
    "    table_fixed.append([j, mean, std])\n",
    "\n",
    "print(tabulate(table_fixed, headers=[\"Index\", \"Mean\", \"Std\"],\n",
    "               tablefmt=\"simple\", colalign=(\"left\", \"left\", \"left\")))"
   ],
   "id": "4b4b73add6629448",
   "outputs": [
    {
     "name": "stdout",
     "output_type": "stream",
     "text": [
      "Index    Mean    Std\n",
      "-------  ------  -----\n",
      "0        40.22   6.48\n",
      "1        81.79   5.3\n",
      "2        124.6   3.5\n",
      "3        171.69  3.57\n",
      "4        226.29  3.91\n"
     ]
    }
   ],
   "execution_count": 102
  },
  {
   "metadata": {},
   "cell_type": "markdown",
   "source": [
    "Kontrast maximierte Bilder:\n",
    "\n",
    "<img src=\"./Bilder/BilderNeu/dunkel_angepasst.png\" alt=\"dunkel kontrastmaximiert\" style=\"width: 45%; display: inline-block;\"/>\n",
    "<img src=\"./Bilder/BilderNeu/weiss_angepasst.png\" alt=\"weiß kontrastmaximiert\" style=\"width: 45%; display: inline-block;\"/>"
   ],
   "id": "28125217e0ba4b87"
  },
  {
   "metadata": {},
   "cell_type": "markdown",
   "source": [
    "Markierte Bilder: <br>\n",
    "rot für Hotpixels (dark image) <br>\n",
    "grün für Stuckpixels   (dark image) <br>\n",
    "blau für Deadpixels   (white image)\n",
    "\n",
    "<img src=\"./Bilder/BilderNeu/dark_image_marked.png\" alt=\"Gwk korrigiert\" style=\"width: 45%; display: inline-block;\"/>\n",
    "<img src=\"./Bilder/BilderNeu/white_image_marked.png\" alt=\"Gwk korrigiert\" style=\"width: 45%; display: inline-block;\"/>"
   ],
   "id": "7d2123f7829f565e"
  },
  {
   "metadata": {},
   "cell_type": "markdown",
   "source": [
    "Originale Bilder:\n",
    "\n",
    "<img src=\"./Bilder/BilderNeu/dunkel_original.png\" alt=\"dunkel original\" style=\"width: 45%; display: inline-block;\"/>\n",
    "<img src=\"./Bilder/BilderNeu/weiss_original.png\" alt=\"weiß original\" style=\"width: 45%; display: inline-block;\"/>"
   ],
   "id": "3e92dfb5def93439"
  },
  {
   "metadata": {},
   "cell_type": "markdown",
   "source": [
    "Korrigierter Grauwertkeil (links) und Original Grauwertkeil (rechts):\n",
    "\n",
    "<img src=\"./Bilder/Grauwertkeil/Gwk_korrigiert.png\" alt=\"Gwk korrigiert\" style=\"width: 45%; display: inline-block;\"/>\n",
    "<img src=\"./Bilder/Grauwertkeil/1_0.png\" alt=\"Gwk original\" style=\"width: 45%; display: inline-block;\"/>"
   ],
   "id": "c3a7b83042d8a55"
  }
 ],
 "metadata": {
  "kernelspec": {
   "display_name": "Python 3 (ipykernel)",
   "language": "python",
   "name": "python3"
  },
  "language_info": {
   "codemirror_mode": {
    "name": "ipython",
    "version": 3
   },
   "file_extension": ".py",
   "mimetype": "text/x-python",
   "name": "python",
   "nbconvert_exporter": "python",
   "pygments_lexer": "ipython3",
   "version": "3.12.7"
  }
 },
 "nbformat": 4,
 "nbformat_minor": 5
}
